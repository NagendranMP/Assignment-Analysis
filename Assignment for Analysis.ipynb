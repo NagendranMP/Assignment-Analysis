{
 "cells": [
  {
   "cell_type": "code",
   "execution_count": 1,
   "id": "23df73b2",
   "metadata": {},
   "outputs": [],
   "source": [
    "import pandas as pd \n",
    "import numpy as np\n",
    "import matplotlib.pyplot as plt\n",
    "import seaborn as sns"
   ]
  },
  {
   "cell_type": "code",
   "execution_count": 2,
   "id": "3400a484",
   "metadata": {},
   "outputs": [
    {
     "data": {
      "text/html": [
       "<div>\n",
       "<style scoped>\n",
       "    .dataframe tbody tr th:only-of-type {\n",
       "        vertical-align: middle;\n",
       "    }\n",
       "\n",
       "    .dataframe tbody tr th {\n",
       "        vertical-align: top;\n",
       "    }\n",
       "\n",
       "    .dataframe thead th {\n",
       "        text-align: right;\n",
       "    }\n",
       "</style>\n",
       "<table border=\"1\" class=\"dataframe\">\n",
       "  <thead>\n",
       "    <tr style=\"text-align: right;\">\n",
       "      <th></th>\n",
       "      <th>sl_no</th>\n",
       "      <th>gender</th>\n",
       "      <th>ssc_p</th>\n",
       "      <th>ssc_b</th>\n",
       "      <th>hsc_p</th>\n",
       "      <th>hsc_b</th>\n",
       "      <th>hsc_s</th>\n",
       "      <th>degree_p</th>\n",
       "      <th>degree_t</th>\n",
       "      <th>workex</th>\n",
       "      <th>etest_p</th>\n",
       "      <th>specialisation</th>\n",
       "      <th>mba_p</th>\n",
       "      <th>status</th>\n",
       "      <th>salary</th>\n",
       "    </tr>\n",
       "  </thead>\n",
       "  <tbody>\n",
       "    <tr>\n",
       "      <th>0</th>\n",
       "      <td>1</td>\n",
       "      <td>M</td>\n",
       "      <td>67.00</td>\n",
       "      <td>Others</td>\n",
       "      <td>91.00</td>\n",
       "      <td>Others</td>\n",
       "      <td>Commerce</td>\n",
       "      <td>58.00</td>\n",
       "      <td>Sci&amp;Tech</td>\n",
       "      <td>No</td>\n",
       "      <td>55.0</td>\n",
       "      <td>Mkt&amp;HR</td>\n",
       "      <td>58.80</td>\n",
       "      <td>Placed</td>\n",
       "      <td>270000.0</td>\n",
       "    </tr>\n",
       "    <tr>\n",
       "      <th>1</th>\n",
       "      <td>2</td>\n",
       "      <td>M</td>\n",
       "      <td>79.33</td>\n",
       "      <td>Central</td>\n",
       "      <td>78.33</td>\n",
       "      <td>Others</td>\n",
       "      <td>Science</td>\n",
       "      <td>77.48</td>\n",
       "      <td>Sci&amp;Tech</td>\n",
       "      <td>Yes</td>\n",
       "      <td>86.5</td>\n",
       "      <td>Mkt&amp;Fin</td>\n",
       "      <td>66.28</td>\n",
       "      <td>Placed</td>\n",
       "      <td>200000.0</td>\n",
       "    </tr>\n",
       "    <tr>\n",
       "      <th>2</th>\n",
       "      <td>3</td>\n",
       "      <td>M</td>\n",
       "      <td>65.00</td>\n",
       "      <td>Central</td>\n",
       "      <td>68.00</td>\n",
       "      <td>Central</td>\n",
       "      <td>Arts</td>\n",
       "      <td>64.00</td>\n",
       "      <td>Comm&amp;Mgmt</td>\n",
       "      <td>No</td>\n",
       "      <td>75.0</td>\n",
       "      <td>Mkt&amp;Fin</td>\n",
       "      <td>57.80</td>\n",
       "      <td>Placed</td>\n",
       "      <td>250000.0</td>\n",
       "    </tr>\n",
       "    <tr>\n",
       "      <th>3</th>\n",
       "      <td>4</td>\n",
       "      <td>M</td>\n",
       "      <td>56.00</td>\n",
       "      <td>Central</td>\n",
       "      <td>52.00</td>\n",
       "      <td>Central</td>\n",
       "      <td>Science</td>\n",
       "      <td>52.00</td>\n",
       "      <td>Sci&amp;Tech</td>\n",
       "      <td>No</td>\n",
       "      <td>66.0</td>\n",
       "      <td>Mkt&amp;HR</td>\n",
       "      <td>59.43</td>\n",
       "      <td>Not Placed</td>\n",
       "      <td>NaN</td>\n",
       "    </tr>\n",
       "    <tr>\n",
       "      <th>4</th>\n",
       "      <td>5</td>\n",
       "      <td>M</td>\n",
       "      <td>85.80</td>\n",
       "      <td>Central</td>\n",
       "      <td>73.60</td>\n",
       "      <td>Central</td>\n",
       "      <td>Commerce</td>\n",
       "      <td>73.30</td>\n",
       "      <td>Comm&amp;Mgmt</td>\n",
       "      <td>No</td>\n",
       "      <td>96.8</td>\n",
       "      <td>Mkt&amp;Fin</td>\n",
       "      <td>55.50</td>\n",
       "      <td>Placed</td>\n",
       "      <td>425000.0</td>\n",
       "    </tr>\n",
       "  </tbody>\n",
       "</table>\n",
       "</div>"
      ],
      "text/plain": [
       "   sl_no gender  ssc_p    ssc_b  hsc_p    hsc_b     hsc_s  degree_p  \\\n",
       "0      1      M  67.00   Others  91.00   Others  Commerce     58.00   \n",
       "1      2      M  79.33  Central  78.33   Others   Science     77.48   \n",
       "2      3      M  65.00  Central  68.00  Central      Arts     64.00   \n",
       "3      4      M  56.00  Central  52.00  Central   Science     52.00   \n",
       "4      5      M  85.80  Central  73.60  Central  Commerce     73.30   \n",
       "\n",
       "    degree_t workex  etest_p specialisation  mba_p      status    salary  \n",
       "0   Sci&Tech     No     55.0         Mkt&HR  58.80      Placed  270000.0  \n",
       "1   Sci&Tech    Yes     86.5        Mkt&Fin  66.28      Placed  200000.0  \n",
       "2  Comm&Mgmt     No     75.0        Mkt&Fin  57.80      Placed  250000.0  \n",
       "3   Sci&Tech     No     66.0         Mkt&HR  59.43  Not Placed       NaN  \n",
       "4  Comm&Mgmt     No     96.8        Mkt&Fin  55.50      Placed  425000.0  "
      ]
     },
     "execution_count": 2,
     "metadata": {},
     "output_type": "execute_result"
    }
   ],
   "source": [
    "df=pd.read_csv(\"Placement_Data_Full_Class - Placement_Data_Full_Class.csv\")\n",
    "df.head()"
   ]
  },
  {
   "cell_type": "markdown",
   "id": "2af4d7cd",
   "metadata": {},
   "source": [
    "### 1.Replace the NaN values with correct value.And justify why you have chosen the same."
   ]
  },
  {
   "cell_type": "code",
   "execution_count": 3,
   "id": "4bbc88de",
   "metadata": {},
   "outputs": [
    {
     "data": {
      "text/plain": [
       "sl_no              0\n",
       "gender             0\n",
       "ssc_p              0\n",
       "ssc_b              0\n",
       "hsc_p              0\n",
       "hsc_b              0\n",
       "hsc_s              0\n",
       "degree_p           0\n",
       "degree_t           0\n",
       "workex             0\n",
       "etest_p            0\n",
       "specialisation     0\n",
       "mba_p              0\n",
       "status             0\n",
       "salary            67\n",
       "dtype: int64"
      ]
     },
     "execution_count": 3,
     "metadata": {},
     "output_type": "execute_result"
    }
   ],
   "source": [
    "df.isnull().sum()"
   ]
  },
  {
   "cell_type": "code",
   "execution_count": 4,
   "id": "8e24b0de",
   "metadata": {},
   "outputs": [],
   "source": [
    "df[\"salary\"].fillna(0,inplace=True)"
   ]
  },
  {
   "cell_type": "code",
   "execution_count": 5,
   "id": "5a6d3764",
   "metadata": {},
   "outputs": [
    {
     "data": {
      "text/plain": [
       "'# Thoese students are not selected so they are not able to get salary, \\nso in that place replace values with 0'"
      ]
     },
     "execution_count": 5,
     "metadata": {},
     "output_type": "execute_result"
    }
   ],
   "source": [
    "\"\"\"# Thoese students are not selected so they are not able to get salary, \n",
    "so in that place replace values with 0\"\"\""
   ]
  },
  {
   "cell_type": "code",
   "execution_count": 6,
   "id": "e987e586",
   "metadata": {},
   "outputs": [
    {
     "data": {
      "text/plain": [
       "sl_no             0\n",
       "gender            0\n",
       "ssc_p             0\n",
       "ssc_b             0\n",
       "hsc_p             0\n",
       "hsc_b             0\n",
       "hsc_s             0\n",
       "degree_p          0\n",
       "degree_t          0\n",
       "workex            0\n",
       "etest_p           0\n",
       "specialisation    0\n",
       "mba_p             0\n",
       "status            0\n",
       "salary            0\n",
       "dtype: int64"
      ]
     },
     "execution_count": 6,
     "metadata": {},
     "output_type": "execute_result"
    }
   ],
   "source": [
    "df.isnull().sum()"
   ]
  },
  {
   "cell_type": "markdown",
   "id": "5161aaae",
   "metadata": {},
   "source": [
    "### 2. How many of them are not placed? "
   ]
  },
  {
   "cell_type": "code",
   "execution_count": 7,
   "id": "2cc43a8d",
   "metadata": {},
   "outputs": [
    {
     "data": {
      "text/plain": [
       "status\n",
       "Placed        148\n",
       "Not Placed     67\n",
       "Name: count, dtype: int64"
      ]
     },
     "execution_count": 7,
     "metadata": {},
     "output_type": "execute_result"
    }
   ],
   "source": [
    "df[\"status\"].value_counts()"
   ]
  },
  {
   "cell_type": "code",
   "execution_count": 8,
   "id": "8b54ff2c",
   "metadata": {},
   "outputs": [
    {
     "data": {
      "text/plain": [
       "'67 members are not placed'"
      ]
     },
     "execution_count": 8,
     "metadata": {},
     "output_type": "execute_result"
    }
   ],
   "source": [
    "\"67 members are not placed\""
   ]
  },
  {
   "cell_type": "markdown",
   "id": "69c2774f",
   "metadata": {},
   "source": [
    "### 3.Find the reason for non placement from the dataset?"
   ]
  },
  {
   "cell_type": "code",
   "execution_count": 9,
   "id": "d3ba6eb9",
   "metadata": {},
   "outputs": [
    {
     "data": {
      "text/plain": [
       "'(ssc_p,hsc_p,degree_p,etest_p,mba_p) posible for the placement the avrage of 5 columns should be above 65% '"
      ]
     },
     "execution_count": 9,
     "metadata": {},
     "output_type": "execute_result"
    }
   ],
   "source": [
    "\"(ssc_p,hsc_p,degree_p,etest_p,mba_p) posible for the placement the avrage of 5 columns should be above 65% \""
   ]
  },
  {
   "cell_type": "markdown",
   "id": "932d3c3f",
   "metadata": {},
   "source": [
    "### 4.What kind of relation between  salary and mba_p."
   ]
  },
  {
   "cell_type": "code",
   "execution_count": 10,
   "id": "d4e8a010",
   "metadata": {},
   "outputs": [],
   "source": [
    "quan=[]\n",
    "qual=[]\n",
    "for i in df:\n",
    "    if df[i].dtype==\"O\":\n",
    "        qual.append(i)\n",
    "    else:\n",
    "        quan.append(i)"
   ]
  },
  {
   "cell_type": "code",
   "execution_count": 11,
   "id": "f9a83260",
   "metadata": {},
   "outputs": [
    {
     "data": {
      "text/plain": [
       "['sl_no', 'ssc_p', 'hsc_p', 'degree_p', 'etest_p', 'mba_p', 'salary']"
      ]
     },
     "execution_count": 11,
     "metadata": {},
     "output_type": "execute_result"
    }
   ],
   "source": [
    "quan"
   ]
  },
  {
   "cell_type": "code",
   "execution_count": 12,
   "id": "6c6a10ae",
   "metadata": {},
   "outputs": [
    {
     "data": {
      "text/plain": [
       "['gender',\n",
       " 'ssc_b',\n",
       " 'hsc_b',\n",
       " 'hsc_s',\n",
       " 'degree_t',\n",
       " 'workex',\n",
       " 'specialisation',\n",
       " 'status']"
      ]
     },
     "execution_count": 12,
     "metadata": {},
     "output_type": "execute_result"
    }
   ],
   "source": [
    "qual"
   ]
  },
  {
   "cell_type": "code",
   "execution_count": 13,
   "id": "b386d4c0",
   "metadata": {},
   "outputs": [
    {
     "data": {
      "text/html": [
       "<div>\n",
       "<style scoped>\n",
       "    .dataframe tbody tr th:only-of-type {\n",
       "        vertical-align: middle;\n",
       "    }\n",
       "\n",
       "    .dataframe tbody tr th {\n",
       "        vertical-align: top;\n",
       "    }\n",
       "\n",
       "    .dataframe thead th {\n",
       "        text-align: right;\n",
       "    }\n",
       "</style>\n",
       "<table border=\"1\" class=\"dataframe\">\n",
       "  <thead>\n",
       "    <tr style=\"text-align: right;\">\n",
       "      <th></th>\n",
       "      <th>sl_no</th>\n",
       "      <th>ssc_p</th>\n",
       "      <th>hsc_p</th>\n",
       "      <th>degree_p</th>\n",
       "      <th>etest_p</th>\n",
       "      <th>mba_p</th>\n",
       "      <th>salary</th>\n",
       "    </tr>\n",
       "  </thead>\n",
       "  <tbody>\n",
       "    <tr>\n",
       "      <th>sl_no</th>\n",
       "      <td>1.000000</td>\n",
       "      <td>-0.078155</td>\n",
       "      <td>-0.085711</td>\n",
       "      <td>-0.088281</td>\n",
       "      <td>0.063636</td>\n",
       "      <td>0.022327</td>\n",
       "      <td>0.002543</td>\n",
       "    </tr>\n",
       "    <tr>\n",
       "      <th>ssc_p</th>\n",
       "      <td>-0.078155</td>\n",
       "      <td>1.000000</td>\n",
       "      <td>0.511472</td>\n",
       "      <td>0.538404</td>\n",
       "      <td>0.261993</td>\n",
       "      <td>0.388478</td>\n",
       "      <td>0.538090</td>\n",
       "    </tr>\n",
       "    <tr>\n",
       "      <th>hsc_p</th>\n",
       "      <td>-0.085711</td>\n",
       "      <td>0.511472</td>\n",
       "      <td>1.000000</td>\n",
       "      <td>0.434206</td>\n",
       "      <td>0.245113</td>\n",
       "      <td>0.354823</td>\n",
       "      <td>0.452569</td>\n",
       "    </tr>\n",
       "    <tr>\n",
       "      <th>degree_p</th>\n",
       "      <td>-0.088281</td>\n",
       "      <td>0.538404</td>\n",
       "      <td>0.434206</td>\n",
       "      <td>1.000000</td>\n",
       "      <td>0.224470</td>\n",
       "      <td>0.402364</td>\n",
       "      <td>0.408371</td>\n",
       "    </tr>\n",
       "    <tr>\n",
       "      <th>etest_p</th>\n",
       "      <td>0.063636</td>\n",
       "      <td>0.261993</td>\n",
       "      <td>0.245113</td>\n",
       "      <td>0.224470</td>\n",
       "      <td>1.000000</td>\n",
       "      <td>0.218055</td>\n",
       "      <td>0.186988</td>\n",
       "    </tr>\n",
       "    <tr>\n",
       "      <th>mba_p</th>\n",
       "      <td>0.022327</td>\n",
       "      <td>0.388478</td>\n",
       "      <td>0.354823</td>\n",
       "      <td>0.402364</td>\n",
       "      <td>0.218055</td>\n",
       "      <td>1.000000</td>\n",
       "      <td>0.139823</td>\n",
       "    </tr>\n",
       "    <tr>\n",
       "      <th>salary</th>\n",
       "      <td>0.002543</td>\n",
       "      <td>0.538090</td>\n",
       "      <td>0.452569</td>\n",
       "      <td>0.408371</td>\n",
       "      <td>0.186988</td>\n",
       "      <td>0.139823</td>\n",
       "      <td>1.000000</td>\n",
       "    </tr>\n",
       "  </tbody>\n",
       "</table>\n",
       "</div>"
      ],
      "text/plain": [
       "             sl_no     ssc_p     hsc_p  degree_p   etest_p     mba_p    salary\n",
       "sl_no     1.000000 -0.078155 -0.085711 -0.088281  0.063636  0.022327  0.002543\n",
       "ssc_p    -0.078155  1.000000  0.511472  0.538404  0.261993  0.388478  0.538090\n",
       "hsc_p    -0.085711  0.511472  1.000000  0.434206  0.245113  0.354823  0.452569\n",
       "degree_p -0.088281  0.538404  0.434206  1.000000  0.224470  0.402364  0.408371\n",
       "etest_p   0.063636  0.261993  0.245113  0.224470  1.000000  0.218055  0.186988\n",
       "mba_p     0.022327  0.388478  0.354823  0.402364  0.218055  1.000000  0.139823\n",
       "salary    0.002543  0.538090  0.452569  0.408371  0.186988  0.139823  1.000000"
      ]
     },
     "execution_count": 13,
     "metadata": {},
     "output_type": "execute_result"
    }
   ],
   "source": [
    "df[quan].corr()"
   ]
  },
  {
   "cell_type": "code",
   "execution_count": 14,
   "id": "2e765067",
   "metadata": {},
   "outputs": [
    {
     "data": {
      "text/plain": [
       "'mba_p and salary relation is pasitive corelation and directly proposnal \\nand their relation value is 0.139823'"
      ]
     },
     "execution_count": 14,
     "metadata": {},
     "output_type": "execute_result"
    }
   ],
   "source": [
    "\"\"\"mba_p and salary relation is pasitive corelation and directly proposnal \n",
    "and their relation value is 0.139823\"\"\""
   ]
  },
  {
   "cell_type": "markdown",
   "id": "7912aac0",
   "metadata": {},
   "source": [
    "### 5.Which specialization is getting minimum salary?"
   ]
  },
  {
   "cell_type": "code",
   "execution_count": 15,
   "id": "ed7e5298",
   "metadata": {},
   "outputs": [],
   "source": [
    "Min=df[df[\"salary\"]==df[\"salary\"].min()][\"specialisation\"]\n"
   ]
  },
  {
   "cell_type": "code",
   "execution_count": 16,
   "id": "b16928fc",
   "metadata": {},
   "outputs": [
    {
     "data": {
      "text/plain": [
       "3       Mkt&HR\n",
       "5      Mkt&Fin\n",
       "6      Mkt&Fin\n",
       "9      Mkt&Fin\n",
       "12      Mkt&HR\n",
       "        ...   \n",
       "198     Mkt&HR\n",
       "201     Mkt&HR\n",
       "206    Mkt&Fin\n",
       "208     Mkt&HR\n",
       "214     Mkt&HR\n",
       "Name: specialisation, Length: 67, dtype: object"
      ]
     },
     "execution_count": 16,
     "metadata": {},
     "output_type": "execute_result"
    }
   ],
   "source": [
    "Min"
   ]
  },
  {
   "cell_type": "code",
   "execution_count": 17,
   "id": "b685ce69",
   "metadata": {},
   "outputs": [
    {
     "data": {
      "text/plain": [
       "'These 67 specializations are getting minimum salary'"
      ]
     },
     "execution_count": 17,
     "metadata": {},
     "output_type": "execute_result"
    }
   ],
   "source": [
    "\"These 67 specializations are getting minimum salary\""
   ]
  },
  {
   "cell_type": "markdown",
   "id": "fc4e8311",
   "metadata": {},
   "source": [
    "### 6.How many of them getting above 500000 salary?"
   ]
  },
  {
   "cell_type": "code",
   "execution_count": 18,
   "id": "7319477a",
   "metadata": {},
   "outputs": [
    {
     "data": {
      "text/html": [
       "<div>\n",
       "<style scoped>\n",
       "    .dataframe tbody tr th:only-of-type {\n",
       "        vertical-align: middle;\n",
       "    }\n",
       "\n",
       "    .dataframe tbody tr th {\n",
       "        vertical-align: top;\n",
       "    }\n",
       "\n",
       "    .dataframe thead th {\n",
       "        text-align: right;\n",
       "    }\n",
       "</style>\n",
       "<table border=\"1\" class=\"dataframe\">\n",
       "  <thead>\n",
       "    <tr style=\"text-align: right;\">\n",
       "      <th></th>\n",
       "      <th>sl_no</th>\n",
       "      <th>gender</th>\n",
       "      <th>ssc_p</th>\n",
       "      <th>ssc_b</th>\n",
       "      <th>hsc_p</th>\n",
       "      <th>hsc_b</th>\n",
       "      <th>hsc_s</th>\n",
       "      <th>degree_p</th>\n",
       "      <th>degree_t</th>\n",
       "      <th>workex</th>\n",
       "      <th>etest_p</th>\n",
       "      <th>specialisation</th>\n",
       "      <th>mba_p</th>\n",
       "      <th>status</th>\n",
       "      <th>salary</th>\n",
       "    </tr>\n",
       "  </thead>\n",
       "  <tbody>\n",
       "    <tr>\n",
       "      <th>119</th>\n",
       "      <td>120</td>\n",
       "      <td>M</td>\n",
       "      <td>60.8</td>\n",
       "      <td>Central</td>\n",
       "      <td>68.40</td>\n",
       "      <td>Central</td>\n",
       "      <td>Commerce</td>\n",
       "      <td>64.6</td>\n",
       "      <td>Comm&amp;Mgmt</td>\n",
       "      <td>Yes</td>\n",
       "      <td>82.66</td>\n",
       "      <td>Mkt&amp;Fin</td>\n",
       "      <td>64.34</td>\n",
       "      <td>Placed</td>\n",
       "      <td>940000.0</td>\n",
       "    </tr>\n",
       "    <tr>\n",
       "      <th>150</th>\n",
       "      <td>151</td>\n",
       "      <td>M</td>\n",
       "      <td>71.0</td>\n",
       "      <td>Central</td>\n",
       "      <td>58.66</td>\n",
       "      <td>Central</td>\n",
       "      <td>Science</td>\n",
       "      <td>58.0</td>\n",
       "      <td>Sci&amp;Tech</td>\n",
       "      <td>Yes</td>\n",
       "      <td>56.00</td>\n",
       "      <td>Mkt&amp;Fin</td>\n",
       "      <td>61.30</td>\n",
       "      <td>Placed</td>\n",
       "      <td>690000.0</td>\n",
       "    </tr>\n",
       "    <tr>\n",
       "      <th>177</th>\n",
       "      <td>178</td>\n",
       "      <td>F</td>\n",
       "      <td>73.0</td>\n",
       "      <td>Central</td>\n",
       "      <td>97.00</td>\n",
       "      <td>Others</td>\n",
       "      <td>Commerce</td>\n",
       "      <td>79.0</td>\n",
       "      <td>Comm&amp;Mgmt</td>\n",
       "      <td>Yes</td>\n",
       "      <td>89.00</td>\n",
       "      <td>Mkt&amp;Fin</td>\n",
       "      <td>70.81</td>\n",
       "      <td>Placed</td>\n",
       "      <td>650000.0</td>\n",
       "    </tr>\n",
       "  </tbody>\n",
       "</table>\n",
       "</div>"
      ],
      "text/plain": [
       "     sl_no gender  ssc_p    ssc_b  hsc_p    hsc_b     hsc_s  degree_p  \\\n",
       "119    120      M   60.8  Central  68.40  Central  Commerce      64.6   \n",
       "150    151      M   71.0  Central  58.66  Central   Science      58.0   \n",
       "177    178      F   73.0  Central  97.00   Others  Commerce      79.0   \n",
       "\n",
       "      degree_t workex  etest_p specialisation  mba_p  status    salary  \n",
       "119  Comm&Mgmt    Yes    82.66        Mkt&Fin  64.34  Placed  940000.0  \n",
       "150   Sci&Tech    Yes    56.00        Mkt&Fin  61.30  Placed  690000.0  \n",
       "177  Comm&Mgmt    Yes    89.00        Mkt&Fin  70.81  Placed  650000.0  "
      ]
     },
     "execution_count": 18,
     "metadata": {},
     "output_type": "execute_result"
    }
   ],
   "source": [
    "df[df[\"salary\"]>500000]"
   ]
  },
  {
   "cell_type": "code",
   "execution_count": 19,
   "id": "b9a0789a",
   "metadata": {},
   "outputs": [
    {
     "data": {
      "text/plain": [
       "'These three people are getting above 500000 salary'"
      ]
     },
     "execution_count": 19,
     "metadata": {},
     "output_type": "execute_result"
    }
   ],
   "source": [
    "\"These three people are getting above 500000 salary\""
   ]
  },
  {
   "cell_type": "markdown",
   "id": "4c3eb1d0",
   "metadata": {},
   "source": [
    "### 7.Test the analysis of variance between etest_p and mba_p at significance level 5%(Make decision using hypothesis testing)."
   ]
  },
  {
   "cell_type": "code",
   "execution_count": 20,
   "id": "cd50ab33",
   "metadata": {},
   "outputs": [
    {
     "data": {
      "text/plain": [
       "F_onewayResult(statistic=98.64487057324706, pvalue=4.672547689133573e-21)"
      ]
     },
     "execution_count": 20,
     "metadata": {},
     "output_type": "execute_result"
    }
   ],
   "source": [
    "import scipy.stats as stats\n",
    "stats.f_oneway(df[\"etest_p\"],df[\"mba_p\"])"
   ]
  },
  {
   "cell_type": "code",
   "execution_count": 21,
   "id": "e0a26aef",
   "metadata": {},
   "outputs": [
    {
     "data": {
      "text/plain": [
       "'# H0-null hypothesis - there is no significant value\\n# H1-alternative hypothesis - there is significant value\\n# Here the p value is above 5% so the null hypothesis(H0) is accepted there is no significant value or \\nthere is no difference between etest_p and mba_p\\n'"
      ]
     },
     "execution_count": 21,
     "metadata": {},
     "output_type": "execute_result"
    }
   ],
   "source": [
    "\"\"\"# H0-null hypothesis - there is no significant value\n",
    "# H1-alternative hypothesis - there is significant value\n",
    "# Here the p value is above 5% so the null hypothesis(H0) is accepted there is no significant value or \n",
    "there is no difference between etest_p and mba_p\n",
    "\"\"\""
   ]
  },
  {
   "cell_type": "markdown",
   "id": "c56013b6",
   "metadata": {},
   "source": [
    "### 8.Test similarity between the degree_t(Sci&Tech) and specialization(Mkt&HR) with respect to salary at significance level 5%(Make decision using hypothesis testing)"
   ]
  },
  {
   "cell_type": "code",
   "execution_count": 22,
   "id": "6ac2dd47",
   "metadata": {},
   "outputs": [],
   "source": [
    "from scipy.stats import ttest_ind"
   ]
  },
  {
   "cell_type": "code",
   "execution_count": 23,
   "id": "032d26df",
   "metadata": {},
   "outputs": [
    {
     "data": {
      "text/plain": [
       "TtestResult(statistic=2.692041243555374, pvalue=0.007897969943471179, df=152.0)"
      ]
     },
     "execution_count": 23,
     "metadata": {},
     "output_type": "execute_result"
    }
   ],
   "source": [
    "degree_t=df[df[\"degree_t\"]==\"Sci&Tech\"][\"salary\"]\n",
    "specialisation=df[df[\"specialisation\"]==\"Mkt&HR\"][\"salary\"]\n",
    "ttest_ind(degree_t,specialisation)"
   ]
  },
  {
   "cell_type": "code",
   "execution_count": 24,
   "id": "795d707e",
   "metadata": {},
   "outputs": [
    {
     "data": {
      "text/plain": [
       "'# H0-null hypothesis - there is no significant value\\n# H1-alternative hypothesis - there is significant value\\n# Here the p value is below 5% so the null hypothesis(H1) is accepted there is significant value or \\nthere is difference between degree_t(Sci&Tech)  and specialization(Mkt&HR) with respect to salary\\n'"
      ]
     },
     "execution_count": 24,
     "metadata": {},
     "output_type": "execute_result"
    }
   ],
   "source": [
    "\"\"\"# H0-null hypothesis - there is no significant value\n",
    "# H1-alternative hypothesis - there is significant value\n",
    "# Here the p value is below 5% so the null hypothesis(H1) is accepted there is significant value or \n",
    "there is difference between degree_t(Sci&Tech)  and specialization(Mkt&HR) with respect to salary\n",
    "\"\"\""
   ]
  },
  {
   "cell_type": "markdown",
   "id": "bcd6ade9",
   "metadata": {},
   "source": [
    "### 9.Covert the normal distribution to standard normal distribution for the salary column"
   ]
  },
  {
   "cell_type": "code",
   "execution_count": 25,
   "id": "7980aaed",
   "metadata": {},
   "outputs": [
    {
     "name": "stderr",
     "output_type": "stream",
     "text": [
      "C:\\Users\\Nagendran\\AppData\\Local\\Temp\\ipykernel_2468\\2108078099.py:2: UserWarning: \n",
      "\n",
      "`distplot` is a deprecated function and will be removed in seaborn v0.14.0.\n",
      "\n",
      "Please adapt your code to use either `displot` (a figure-level function with\n",
      "similar flexibility) or `histplot` (an axes-level function for histograms).\n",
      "\n",
      "For a guide to updating your code to use the new functions, please see\n",
      "https://gist.github.com/mwaskom/de44147ed2974457ad6372750bbe5751\n",
      "\n",
      "  sns.distplot(df[\"salary\"],kde_kws={\"color\":\"blue\"},color=\"red\")\n"
     ]
    },
    {
     "data": {
      "text/plain": [
       "<Axes: xlabel='salary', ylabel='Density'>"
      ]
     },
     "execution_count": 25,
     "metadata": {},
     "output_type": "execute_result"
    },
    {
     "data": {
      "image/png": "[encoded data removed]",
      "text/plain": [
       "<Figure size 640x480 with 1 Axes>"
      ]
     },
     "metadata": {},
     "output_type": "display_data"
    }
   ],
   "source": [
    "\"Normal Distribution for salary column \"\n",
    "sns.distplot(df[\"salary\"],kde_kws={\"color\":\"blue\"},color=\"red\")"
   ]
  },
  {
   "cell_type": "code",
   "execution_count": 26,
   "id": "570a7abc",
   "metadata": {},
   "outputs": [
    {
     "name": "stdout",
     "output_type": "stream",
     "text": [
      "Mean: 198702.32558139536\n",
      "Std: 154780.92671560106\n"
     ]
    },
    {
     "name": "stderr",
     "output_type": "stream",
     "text": [
      "C:\\Users\\Nagendran\\AppData\\Local\\Temp\\ipykernel_2468\\9841772.py:7: UserWarning: \n",
      "\n",
      "`distplot` is a deprecated function and will be removed in seaborn v0.14.0.\n",
      "\n",
      "Please adapt your code to use either `displot` (a figure-level function with\n",
      "similar flexibility) or `histplot` (an axes-level function for histograms).\n",
      "\n",
      "For a guide to updating your code to use the new functions, please see\n",
      "https://gist.github.com/mwaskom/de44147ed2974457ad6372750bbe5751\n",
      "\n",
      "  sns.distplot(SND,kde_kws={\"color\":\"blue\"},color=\"red\")\n"
     ]
    },
    {
     "data": {
      "text/plain": [
       "<Axes: ylabel='Density'>"
      ]
     },
     "execution_count": 26,
     "metadata": {},
     "output_type": "execute_result"
    },
    {
     "data": {
      "image/png": "[encoded data removed]",
      "text/plain": [
       "<Figure size 640x480 with 1 Axes>"
      ]
     },
     "metadata": {},
     "output_type": "display_data"
    }
   ],
   "source": [
    "\"Standard Normal Distribution\"\n",
    "Mean=df[\"salary\"].mean()\n",
    "Std=df[\"salary\"].std()\n",
    "print(\"Mean:\",Mean)\n",
    "print(\"Std:\",Std)\n",
    "SND=[(i-Mean)/Std for i in df[\"salary\"]]\n",
    "sns.distplot(SND,kde_kws={\"color\":\"blue\"},color=\"red\")"
   ]
  },
  {
   "cell_type": "markdown",
   "id": "377c2ffa",
   "metadata": {},
   "source": [
    "### 10.What is the probability density function of the salary range from 700000 to 900000"
   ]
  },
  {
   "cell_type": "code",
   "execution_count": 27,
   "id": "9c9cd4e0",
   "metadata": {},
   "outputs": [
    {
     "name": "stderr",
     "output_type": "stream",
     "text": [
      "C:\\Users\\Nagendran\\AppData\\Local\\Temp\\ipykernel_2468\\1111249132.py:2: UserWarning: \n",
      "\n",
      "`distplot` is a deprecated function and will be removed in seaborn v0.14.0.\n",
      "\n",
      "Please adapt your code to use either `displot` (a figure-level function with\n",
      "similar flexibility) or `histplot` (an axes-level function for histograms).\n",
      "\n",
      "For a guide to updating your code to use the new functions, please see\n",
      "https://gist.github.com/mwaskom/de44147ed2974457ad6372750bbe5751\n",
      "\n",
      "  sns.distplot(df[\"salary\"],kde_kws={\"color\":\"blue\"},color=\"yellow\")\n"
     ]
    },
    {
     "name": "stdout",
     "output_type": "stream",
     "text": [
      "Mean: 198702.32558139536\n",
      "Std: 154780.92671560106\n",
      "Percentage of PDF 0.0003910098948581702\n"
     ]
    },
    {
     "data": {
      "image/png": "[encoded data removed]",
      "text/plain": [
       "<Figure size 640x480 with 1 Axes>"
      ]
     },
     "metadata": {},
     "output_type": "display_data"
    }
   ],
   "source": [
    "from scipy.stats import norm\n",
    "sns.distplot(df[\"salary\"],kde_kws={\"color\":\"blue\"},color=\"yellow\")\n",
    "plt.axvline(700000,color=\"red\")\n",
    "plt.axvline(900000,color=\"red\")\n",
    "Mean=df[\"salary\"].mean()\n",
    "Std=df[\"salary\"].std()\n",
    "normal=norm(Mean,Std)\n",
    "values=[i for i in df[\"salary\"]]\n",
    "prob=[normal.pdf(i) for i in values]\n",
    "sum_prob=sum(prob)\n",
    "print(\"Mean:\",Mean)\n",
    "print(\"Std:\",Std)\n",
    "print(\"Percentage of PDF\",sum_prob)\n"
   ]
  },
  {
   "cell_type": "markdown",
   "id": "563a1448",
   "metadata": {},
   "source": [
    "### 11.Test similarity between degree_t(Skt&Tech) with respect to etest_p and mba_p at significance level 5%(Make decision using hypothesis testing)."
   ]
  },
  {
   "cell_type": "code",
   "execution_count": 28,
   "id": "564971e9",
   "metadata": {},
   "outputs": [
    {
     "data": {
      "text/plain": [
       "TtestResult(statistic=4.532000225151251, pvalue=1.4289217003775636e-05, df=116.0)"
      ]
     },
     "execution_count": 28,
     "metadata": {},
     "output_type": "execute_result"
    }
   ],
   "source": [
    "etest_p=df[df[\"degree_t\"]==\"Sci&Tech\"][\"etest_p\"]\n",
    "mba_p=df[df[\"degree_t\"]==\"Sci&Tech\"][\"mba_p\"]\n",
    "ttest_ind(etest_p,mba_p)"
   ]
  },
  {
   "cell_type": "code",
   "execution_count": 29,
   "id": "73727047",
   "metadata": {},
   "outputs": [
    {
     "data": {
      "text/plain": [
       "'# H0-null hypothesis - there is no significant value\\n# H1-alternative hypothesis - there is significant value\\n# Here the p value is above 5% so the null hypothesis(H0) is accepted there is no significant value or \\nthere is no difference in degree_t(Skt&Tech) with respect to etest_p and mba_p\\n'"
      ]
     },
     "execution_count": 29,
     "metadata": {},
     "output_type": "execute_result"
    }
   ],
   "source": [
    "\"\"\"# H0-null hypothesis - there is no significant value\n",
    "# H1-alternative hypothesis - there is significant value\n",
    "# Here the p value is above 5% so the null hypothesis(H0) is accepted there is no significant value or \n",
    "there is no difference in degree_t(Skt&Tech) with respect to etest_p and mba_p\n",
    "\"\"\""
   ]
  },
  {
   "cell_type": "markdown",
   "id": "6b53c3f6",
   "metadata": {},
   "source": [
    "### 12. Which parameter is highly co-related with Salary"
   ]
  },
  {
   "cell_type": "code",
   "execution_count": 30,
   "id": "3f97aba3",
   "metadata": {},
   "outputs": [
    {
     "data": {
      "text/html": [
       "<div>\n",
       "<style scoped>\n",
       "    .dataframe tbody tr th:only-of-type {\n",
       "        vertical-align: middle;\n",
       "    }\n",
       "\n",
       "    .dataframe tbody tr th {\n",
       "        vertical-align: top;\n",
       "    }\n",
       "\n",
       "    .dataframe thead th {\n",
       "        text-align: right;\n",
       "    }\n",
       "</style>\n",
       "<table border=\"1\" class=\"dataframe\">\n",
       "  <thead>\n",
       "    <tr style=\"text-align: right;\">\n",
       "      <th></th>\n",
       "      <th>sl_no</th>\n",
       "      <th>ssc_p</th>\n",
       "      <th>hsc_p</th>\n",
       "      <th>degree_p</th>\n",
       "      <th>etest_p</th>\n",
       "      <th>mba_p</th>\n",
       "      <th>salary</th>\n",
       "    </tr>\n",
       "  </thead>\n",
       "  <tbody>\n",
       "    <tr>\n",
       "      <th>sl_no</th>\n",
       "      <td>1.000000</td>\n",
       "      <td>-0.078155</td>\n",
       "      <td>-0.085711</td>\n",
       "      <td>-0.088281</td>\n",
       "      <td>0.063636</td>\n",
       "      <td>0.022327</td>\n",
       "      <td>0.002543</td>\n",
       "    </tr>\n",
       "    <tr>\n",
       "      <th>ssc_p</th>\n",
       "      <td>-0.078155</td>\n",
       "      <td>1.000000</td>\n",
       "      <td>0.511472</td>\n",
       "      <td>0.538404</td>\n",
       "      <td>0.261993</td>\n",
       "      <td>0.388478</td>\n",
       "      <td>0.538090</td>\n",
       "    </tr>\n",
       "    <tr>\n",
       "      <th>hsc_p</th>\n",
       "      <td>-0.085711</td>\n",
       "      <td>0.511472</td>\n",
       "      <td>1.000000</td>\n",
       "      <td>0.434206</td>\n",
       "      <td>0.245113</td>\n",
       "      <td>0.354823</td>\n",
       "      <td>0.452569</td>\n",
       "    </tr>\n",
       "    <tr>\n",
       "      <th>degree_p</th>\n",
       "      <td>-0.088281</td>\n",
       "      <td>0.538404</td>\n",
       "      <td>0.434206</td>\n",
       "      <td>1.000000</td>\n",
       "      <td>0.224470</td>\n",
       "      <td>0.402364</td>\n",
       "      <td>0.408371</td>\n",
       "    </tr>\n",
       "    <tr>\n",
       "      <th>etest_p</th>\n",
       "      <td>0.063636</td>\n",
       "      <td>0.261993</td>\n",
       "      <td>0.245113</td>\n",
       "      <td>0.224470</td>\n",
       "      <td>1.000000</td>\n",
       "      <td>0.218055</td>\n",
       "      <td>0.186988</td>\n",
       "    </tr>\n",
       "    <tr>\n",
       "      <th>mba_p</th>\n",
       "      <td>0.022327</td>\n",
       "      <td>0.388478</td>\n",
       "      <td>0.354823</td>\n",
       "      <td>0.402364</td>\n",
       "      <td>0.218055</td>\n",
       "      <td>1.000000</td>\n",
       "      <td>0.139823</td>\n",
       "    </tr>\n",
       "    <tr>\n",
       "      <th>salary</th>\n",
       "      <td>0.002543</td>\n",
       "      <td>0.538090</td>\n",
       "      <td>0.452569</td>\n",
       "      <td>0.408371</td>\n",
       "      <td>0.186988</td>\n",
       "      <td>0.139823</td>\n",
       "      <td>1.000000</td>\n",
       "    </tr>\n",
       "  </tbody>\n",
       "</table>\n",
       "</div>"
      ],
      "text/plain": [
       "             sl_no     ssc_p     hsc_p  degree_p   etest_p     mba_p    salary\n",
       "sl_no     1.000000 -0.078155 -0.085711 -0.088281  0.063636  0.022327  0.002543\n",
       "ssc_p    -0.078155  1.000000  0.511472  0.538404  0.261993  0.388478  0.538090\n",
       "hsc_p    -0.085711  0.511472  1.000000  0.434206  0.245113  0.354823  0.452569\n",
       "degree_p -0.088281  0.538404  0.434206  1.000000  0.224470  0.402364  0.408371\n",
       "etest_p   0.063636  0.261993  0.245113  0.224470  1.000000  0.218055  0.186988\n",
       "mba_p     0.022327  0.388478  0.354823  0.402364  0.218055  1.000000  0.139823\n",
       "salary    0.002543  0.538090  0.452569  0.408371  0.186988  0.139823  1.000000"
      ]
     },
     "execution_count": 30,
     "metadata": {},
     "output_type": "execute_result"
    }
   ],
   "source": [
    "mf=df[quan].corr()\n",
    "mf"
   ]
  },
  {
   "cell_type": "code",
   "execution_count": 31,
   "id": "14e68310",
   "metadata": {},
   "outputs": [
    {
     "name": "stdout",
     "output_type": "stream",
     "text": [
      "ssc_p\n"
     ]
    }
   ],
   "source": [
    "Max=[]\n",
    "for i in mf[\"salary\"]:\n",
    "    if i!=1:\n",
    "        Max.append(i)\n",
    "list1=[]\n",
    "for i in mf.index:\n",
    "    for j in mf[i]:\n",
    "        if j==max(Max):\n",
    "           list1.append(i)\n",
    "print(list1[0])"
   ]
  },
  {
   "cell_type": "code",
   "execution_count": 32,
   "id": "b5dc092a",
   "metadata": {},
   "outputs": [
    {
     "data": {
      "text/plain": [
       "'This columns ssc_p is highly co-related with salary'"
      ]
     },
     "execution_count": 32,
     "metadata": {},
     "output_type": "execute_result"
    }
   ],
   "source": [
    "\"This columns ssc_p is highly co-related with salary\""
   ]
  },
  {
   "cell_type": "code",
   "execution_count": null,
   "id": "ce384ef0",
   "metadata": {},
   "outputs": [],
   "source": []
  }
 ],
 "metadata": {
  "kernelspec": {
   "display_name": "Python 3 (ipykernel)",
   "language": "python",
   "name": "python3"
  },
  "language_info": {
   "codemirror_mode": {
    "name": "ipython",
    "version": 3
   },
   "file_extension": ".py",
   "mimetype": "text/x-python",
   "name": "python",
   "nbconvert_exporter": "python",
   "pygments_lexer": "ipython3",
   "version": "3.11.5"
  }
 },
 "nbformat": 4,
 "nbformat_minor": 5
}
